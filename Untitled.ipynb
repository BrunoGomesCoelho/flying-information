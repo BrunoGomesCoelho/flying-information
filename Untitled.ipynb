{
 "cells": [
  {
   "cell_type": "code",
   "execution_count": 163,
   "metadata": {},
   "outputs": [],
   "source": [
    "# import used libraries\n",
    "# For some basic error checks since we are not implementing exceptions\n",
    "import sys\n",
    "\n",
    "import urllib3\n",
    "from bs4 import BeautifulSoup\n",
    "import certifi\n",
    "import re\n",
    "\n",
    "\n",
    "ERROR_MESSAGES = []"
   ]
  },
  {
   "cell_type": "code",
   "execution_count": 42,
   "metadata": {},
   "outputs": [],
   "source": [
    "# Use a better name\n",
    "program_current_line = sys._getframe().f_lineno"
   ]
  },
  {
   "cell_type": "code",
   "execution_count": 36,
   "metadata": {},
   "outputs": [],
   "source": [
    "\n",
    "http = urllib3.PoolManager(cert_reqs='CERT_REQUIRED', ca_certs=certifi.where())\n",
    "headers = {}\n",
    "headers[\"User-Agent\"] = \"Mozilla/5.0 (X11; Linux x86_64) \\\n",
    "        \\AppleWebKit/537.36 (KHTML, like Gecko) Chrome/58.0.3029.110 Safari/537.36\"\n",
    "headers[\"X-Requested-With\"] = \"XMLHttpRequest\"\n",
    "\n",
    "req = None\n",
    "soup = None\n",
    "items = [] # Will hold the scraped events\n",
    "localPath = None\n",
    "\n",
    "# Try to get the page and the soup\n",
    "\n",
    "req = http.request(\n",
    "    \"GET\",\n",
    "    \"https://www.magazineluiza.com.br/geladeira-refrigerador/eletrodomesticos/s/ed/refr/\",\n",
    "    headers=headers\n",
    ")\n",
    "\n",
    "soup = BeautifulSoup(page, \"lxml\")\n"
   ]
  },
  {
   "cell_type": "code",
   "execution_count": 59,
   "metadata": {},
   "outputs": [],
   "source": [
    "content = soup.find_all(\"ul\", {\"class\": \"productShowCase big\"})\n",
    "\n",
    "if len(content) != 1:\n",
    "    ERROR_MESSAGES.append(\"Line {}: productShowCase big has changed\".format(program_current_line))\n",
    "\n"
   ]
  },
  {
   "cell_type": "code",
   "execution_count": 92,
   "metadata": {},
   "outputs": [],
   "source": [
    "class Appliance(object):\n",
    "    \"\"\"\n",
    "    The Appliance class holds all usefull information for a appliance.\n",
    "    Some of this information is pertinent to the customer, some of it is pertinent for our IA model.\n",
    "    \"\"\"\n",
    "    def __init__(self, code, title, brand, model, price, category):\n",
    "        self.code = code\n",
    "        self.title = title\n",
    "        self.brand = brand\n",
    "        self.model = model\n",
    "        self.price = price\n",
    "        self.category = category\n",
    "        \n",
    "    def get_customer_info(self):\n",
    "        return self.code, self.title, self.brand, self.model, self.price, self.category \n",
    "\n",
    "    def __str__(self):\n",
    "        return \", \".join(self.get_all_info())\n",
    "        "
   ]
  },
  {
   "cell_type": "code",
   "execution_count": 83,
   "metadata": {},
   "outputs": [],
   "source": [
    "def test():\n",
    "    print(Appliance(\"code\", \"t\", \"B\", \"m\", \"p\", \"c\"))"
   ]
  },
  {
   "cell_type": "code",
   "execution_count": 93,
   "metadata": {},
   "outputs": [
    {
     "name": "stdout",
     "output_type": "stream",
     "text": [
      "code, t, B, m, p, c\n"
     ]
    }
   ],
   "source": [
    "test()"
   ]
  },
  {
   "cell_type": "code",
   "execution_count": 177,
   "metadata": {},
   "outputs": [
    {
     "name": "stdout",
     "output_type": "stream",
     "text": [
      "product:0888943 basketId:088894200 type:product category:ed subCategory:elgf webVideoUrl: http://www.youtube.com/v/7yTpUVo-60g?hl=pt& brand:consul title_url: geladeira-refrigerador-consul-frost-free-duplex-437l-bem-estar-crm55abana-branco title: Geladeira/Refrigerador Consul Frost Free Duplex reference: 437L Bem Estar CRM55ABANA Branco stockTypes: 088894200: N 088894300: null price: 2299.9\n",
      "{\"product\":\"0888943\", \"basketId\":\"088894200\", \"type\":\"product\", \"category\":\"ed\", \"subCategory\":\"elgf\", \"webVideoUrl\": \"http://www.youtube.com/v/7yTpUVo-60g?hl=pt&\", \"brand\":\"consul\", \"title_url\": \"geladeira-refrigerador-consul-frost-free-duplex-437l-bem-estar-crm55abana-branco\", \"title\": \"Geladeira/Refrigerador Consul Frost Free Duplex\", \"reference\": \"437L Bem Estar CRM55ABANA Branco\", \"stockTypes\": {\"088894200\": \"N\", \"088894300\": null}, \"price\": \"2299.9\"}\n"
     ]
    }
   ],
   "source": [
    "def scrape_refrigerator(refrigerator):\n",
    "    info = refrigerator.find(\"a\")[\"data-product\"]\n",
    "    #info = info[1:-1] # Remove opening and closing \"{}\"\n",
    "    print(re.sub(\"[\\{\\}\\\"\\,]\", \"\", info))\n",
    "    print(info)\n",
    "    #print(info[\"data-product\"])\n",
    "    #print(refrigerator.a)\n",
    "scrape_refrigerator(content[0].find_all(\"li\")[0])"
   ]
  },
  {
   "cell_type": "code",
   "execution_count": 100,
   "metadata": {},
   "outputs": [
    {
     "name": "stdout",
     "output_type": "stream",
     "text": [
      "<li class=\"product\" id=\"product_0888943\" itemscope=\"\" itemtype=\"http://schema.org/Product\">\n",
      "<a class=\"product-li\" data-product='{\"product\":\"0888943\", \"basketId\":\"088894200\", \"type\":\"product\", \"category\":\"ed\", \"subCategory\":\"elgf\", \"webVideoUrl\": \"http://www.youtube.com/v/7yTpUVo-60g?hl=pt&amp;\", \"brand\":\"consul\", \"title_url\": \"geladeira-refrigerador-consul-frost-free-duplex-437l-bem-estar-crm55abana-branco\", \"title\": \"Geladeira/Refrigerador Consul Frost Free Duplex\", \"reference\": \"437L Bem Estar CRM55ABANA Branco\", \"stockTypes\": {\"088894200\": \"N\", \"088894300\": null}, \"price\": \"2299.9\"}' href=\"https://www.magazineluiza.com.br/geladeira-refrigerador-consul-frost-free-duplex-437l-bem-estar-crm55abana-branco/p/0888943/ed/elgf/\" itemprop=\"url\" title=\"Geladeira/Refrigerador Consul Frost Free Duplex\">\n",
      "<span class=\"js-wishlist-action wishlist__simple-text\">\n",
      "<i class=\"wishlist__favorite-icon js-add-wishlist\"></i>\n",
      "</span>\n",
      "<div class=\"alignment-image\">\n",
      "<img alt=\"Geladeira/Refrigerador Consul Frost Free Duplex - 437L Bem Estar CRM55ABANA Branco\" class=\"product-image\" data-original=\"https://c.mlcdn.com.br//geladeira-refrigerador-consul-frost-free-duplex-437l-bem-estar-crm55abana-branco/v/210x210/088894200.jpg\" height=\"210\" src=\"https://d25zlb44gqlazw.cloudfront.net/static/img/default/white1x1-e0a7e4ed.gif\" title=\"Geladeira/Refrigerador Consul Frost Free Duplex - 437L Bem Estar CRM55ABANA Branco\" width=\"210\"/>\n",
      "</div>\n",
      "<noscript>\n",
      "<img alt=\"Geladeira/Refrigerador Consul Frost Free Duplex - 437L Bem Estar CRM55ABANA Branco\" height=\"210\" itemprop=\"image\" src=\"https://c.mlcdn.com.br//geladeira-refrigerador-consul-frost-free-duplex-437l-bem-estar-crm55abana-branco/v/210x210/088894200.jpg\" title=\"Geladeira/Refrigerador Consul Frost Free Duplex - 437L Bem Estar CRM55ABANA Branco\" width=\"210\"/>\n",
      "</noscript>\n",
      "<span class=\"product-content-other-informations\">\n",
      "<span class=\"btn-mgl btn-gray middle-xxx color-purple font-bold ml-productwebvideobox\" data-options='{\"showBuyOption\":false, \"modal\":true, \"position\":\"center\"}' data-product='{\"webVideoUrl\":\"http://www.youtube.com/v/7yTpUVo-60g?hl=pt&amp;\",\"product\":\"0888943\", \"brand\":\"consul\", \"subCategory\":\"elgf\" }' onclick=\"return false;\" title=\"Assitir ao webvídeo do produto\">\n",
      "<i class=\"icon-webvideo to-left font-sixteen\"></i>\n",
      "<p>veja o vídeo</p>\n",
      "</span>\n",
      "<span class=\"rating-container\">\n",
      "<span class=\"rateing sprite-stars star-medium\" itemprop=\"aggregateRating\" itemscope=\"\" itemtype=\"http://schema.org/AggregateRating\">\n",
      "<em class=\"sprite-stars\" style=\"width:94.0%\"></em>\n",
      "<meta content=\"4.7\" itemprop=\"ratingValue\"/>\n",
      "<meta content=\"322\" itemprop=\"reviewCount\"/>\n",
      "</span>\n",
      "</span>\n",
      "</span>\n",
      "<h3 class=\"productTitle\" itemprop=\"name\">Geladeira/Refrigerador Consul Frost Free Duplex - 437L Bem Estar CRM55ABANA Branco</h3>\n",
      "<meta content=\"0888943\" itemprop=\"productID\"/>\n",
      "<meta content=\"None\" itemprop=\"description\"/>\n",
      "<p itemscope=\"\" itemtype=\"http://schema.org/Brand\"><meta content=\"consul\" itemprop=\"name\"/></p>\n",
      "<span class=\"content-voltage-product\">\n",
      "<span class=\"content-voltage-product-volts\" data-voltage='{ \"voltage_id\": \"1\" }'>110 volts</span>\n",
      "</span>\n",
      "<span class=\"productPrice\" itemprop=\"offers\" itemscope=\"\" itemtype=\"http://schema.org/Offer\">\n",
      "<span class=\"priceContent color-green none-product-showcase\">desconto de R$ 399,10</span>\n",
      "<meta content=\"BRL\" itemprop=\"priceCurrency\"/>\n",
      "<meta content=\"2.299,90\" itemprop=\"price\"/>\n",
      "<span class=\"originalPrice\">de R$ 2.699,00</span>\n",
      "<span class=\"price\">\n",
      "                        por R$ 2.299,90\n",
      "                    </span>\n",
      "<span class=\"installmentPrice\">em até 10x de R$ 229,99 sem juros</span>\n",
      "<span class=\"cashPrice\">ou <strong>R$ 2.184,91 à vista</strong></span>\n",
      "<meta content=\"InStock\" itemprop=\"availability\"/>\n",
      "</span>\n",
      "</a>\n",
      "<label class=\"btn-mgl btn-gray middle-xx comparator-add select-product\" for=\"compare-id-0888943\" title=\"marcar para comparar produtos\">\n",
      "<input class=\"compare-check-label\" id=\"compare-id-0888943\" type=\"checkbox\" value=\"0888943\"/>Ver com outros produtos\n",
      "                </label>\n",
      "</li>\n"
     ]
    }
   ],
   "source": [
    "print(content[0].find_all(\"li\")[0])"
   ]
  },
  {
   "cell_type": "code",
   "execution_count": 58,
   "metadata": {},
   "outputs": [
    {
     "name": "stdout",
     "output_type": "stream",
     "text": [
      "<li class=\"productshowcase-next-page\">\n",
      "<a class=\"productshowcase-next-page-link\" href=\"/geladeira-refrigerador/eletrodomesticos/s/ed/refr/2/\">\n",
      "<span class=\"productshowcase-next-page-container\">\n",
      "<span class=\"productshowcase-next-page-main-description\">próxima página</span>\n",
      "<span class=\"productshowcase-next-page-second-container\">\n",
      "<span class=\"productshowcase-next-page-more\">veja mais<br/>resultados</span>\n",
      "<span class=\"productshowcase-next-page-arrow\"></span>\n",
      "</span>\n",
      "</span>\n",
      "</a>\n",
      "</li>\n"
     ]
    }
   ],
   "source": [
    "for product in content[0].find_all(\"li\"):\n",
    "    #print(product.prettify())\n",
    "    pass\n",
    "\n",
    "print(content[0].find_all(\"li\")[-1])"
   ]
  }
 ],
 "metadata": {
  "kernelspec": {
   "display_name": "Python 3",
   "language": "python",
   "name": "python3"
  },
  "language_info": {
   "codemirror_mode": {
    "name": "ipython",
    "version": 3
   },
   "file_extension": ".py",
   "mimetype": "text/x-python",
   "name": "python",
   "nbconvert_exporter": "python",
   "pygments_lexer": "ipython3",
   "version": "3.6.5rc1"
  }
 },
 "nbformat": 4,
 "nbformat_minor": 2
}
